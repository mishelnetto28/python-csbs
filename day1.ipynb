{
  "nbformat": 4,
  "nbformat_minor": 0,
  "metadata": {
    "colab": {
      "provenance": [],
      "collapsed_sections": [],
      "toc_visible": true,
      "authorship_tag": "ABX9TyPMvUk50YgXJV09DPV4Se4N",
      "include_colab_link": true
    },
    "kernelspec": {
      "name": "python3",
      "display_name": "Python 3"
    },
    "language_info": {
      "name": "python"
    }
  },
  "cells": [
    {
      "cell_type": "markdown",
      "metadata": {
        "id": "view-in-github",
        "colab_type": "text"
      },
      "source": [
        "<a href=\"https://colab.research.google.com/github/mishelnetto28/python-csbs/blob/main/day1.ipynb\" target=\"_parent\"><img src=\"https://colab.research.google.com/assets/colab-badge.svg\" alt=\"Open In Colab\"/></a>"
      ]
    },
    {
      "cell_type": "markdown",
      "source": [
        "1.Print statement in Python\n",
        "\n"
      ],
      "metadata": {
        "id": "FYr7ByDUswRF"
      }
    },
    {
      "cell_type": "code",
      "execution_count": null,
      "metadata": {
        "colab": {
          "base_uri": "https://localhost:8080/"
        },
        "id": "XnxVpO3GaFWE",
        "outputId": "7bc2fd16-a831-435b-f01c-73d21b6ebf91"
      },
      "outputs": [
        {
          "output_type": "stream",
          "name": "stdout",
          "text": [
            "first program in python\n"
          ]
        }
      ],
      "source": [
        "print(\"first program in python\")\n"
      ]
    },
    {
      "cell_type": "markdown",
      "source": [
        "2. Sum and Average of firt n natural numbers"
      ],
      "metadata": {
        "id": "-CXhQjP9s7St"
      }
    },
    {
      "cell_type": "code",
      "source": [
        "n = int(input(\"Enter number\"))\n",
        "sum = 0\n",
        "\n",
        "for num in range(1, n + 1, 1):\n",
        "    sum = sum + num\n",
        "print(\"Sum of first \", n, \"numbers is: \", sum)\n",
        "average = sum / n\n",
        "print(\"Average of \", n, \"numbers is: \", average)"
      ],
      "metadata": {
        "colab": {
          "base_uri": "https://localhost:8080/"
        },
        "id": "5AgeetsetLrc",
        "outputId": "21a48874-743d-418e-d921-2ebdee8c69a4"
      },
      "execution_count": null,
      "outputs": [
        {
          "output_type": "stream",
          "name": "stdout",
          "text": [
            "Enter number10\n",
            "Sum of first  10 numbers is:  55\n",
            "Average of  10 numbers is:  5.5\n"
          ]
        }
      ]
    },
    {
      "cell_type": "markdown",
      "source": [
        "3. For Loop in python"
      ],
      "metadata": {
        "id": "F93FNPftyyl9"
      }
    },
    {
      "cell_type": "code",
      "source": [
        "print(\"numnbers between 0 to 6:\")\n",
        "for i in range(1,6):\n",
        "  print(i)\n"
      ],
      "metadata": {
        "colab": {
          "base_uri": "https://localhost:8080/"
        },
        "id": "3fAgDmN0y2rk",
        "outputId": "5de87911-b62e-425b-fbf3-185f0a201f4e"
      },
      "execution_count": null,
      "outputs": [
        {
          "output_type": "stream",
          "name": "stdout",
          "text": [
            "numnbers between 0 to 6:\n",
            "1\n",
            "2\n",
            "3\n",
            "4\n",
            "5\n"
          ]
        }
      ]
    },
    {
      "cell_type": "markdown",
      "source": [
        "4. Reverse List"
      ],
      "metadata": {
        "id": "V-yvQt8X0AT2"
      }
    },
    {
      "cell_type": "code",
      "source": [
        "for i in reversed(range(1,6)):\n",
        "  print(i,end=' ')\n",
        "  "
      ],
      "metadata": {
        "colab": {
          "base_uri": "https://localhost:8080/"
        },
        "id": "3d3QHXQN0GWu",
        "outputId": "815a69ff-c143-4843-9243-fe85c1ba8a6e"
      },
      "execution_count": null,
      "outputs": [
        {
          "output_type": "stream",
          "name": "stdout",
          "text": [
            "5 4 3 2 1 "
          ]
        }
      ]
    },
    {
      "cell_type": "markdown",
      "source": [
        "5. Sum and Average of a list"
      ],
      "metadata": {
        "id": "D5v7a73k0x2N"
      }
    },
    {
      "cell_type": "code",
      "source": [
        "num_list = [10,20,5,30,45,5,50]\n",
        "res1=0\n",
        "for num in num_list:\n",
        "  res1+=num\n",
        "avg=res1/len(num_list)\n",
        "print(\"sum is\",res1,\"average is\",avg)\n"
      ],
      "metadata": {
        "colab": {
          "base_uri": "https://localhost:8080/"
        },
        "id": "SPHXVpWo06Uu",
        "outputId": "063f1a45-7c6d-4421-a44d-d4c02a6a6764"
      },
      "execution_count": null,
      "outputs": [
        {
          "output_type": "stream",
          "name": "stdout",
          "text": [
            "sum is 165 average is 23.571428571428573\n"
          ]
        }
      ]
    },
    {
      "cell_type": "markdown",
      "source": [
        "6. Multiplication table of 2"
      ],
      "metadata": {
        "id": "bUcysW7c4aeW"
      }
    },
    {
      "cell_type": "code",
      "source": [
        "print(\"multiplication table of 2:\\n\")\n",
        "n=2\n",
        "for i in range (1,11):\n",
        "  p=n*i\n",
        "  print(n,'*',i,'=',p)"
      ],
      "metadata": {
        "colab": {
          "base_uri": "https://localhost:8080/"
        },
        "id": "EewsUn3o4gTt",
        "outputId": "41a97069-32c0-4afb-e4f5-b740cf6a09af"
      },
      "execution_count": null,
      "outputs": [
        {
          "output_type": "stream",
          "name": "stdout",
          "text": [
            "multiplication table of 2:\n",
            "\n",
            "2 * 1 = 2\n",
            "2 * 2 = 4\n",
            "2 * 3 = 6\n",
            "2 * 4 = 8\n",
            "2 * 5 = 10\n",
            "2 * 6 = 12\n",
            "2 * 7 = 14\n",
            "2 * 8 = 16\n",
            "2 * 9 = 18\n",
            "2 * 10 = 20\n"
          ]
        }
      ]
    },
    {
      "cell_type": "markdown",
      "source": [
        "7. While loop to calculate sum and average"
      ],
      "metadata": {
        "id": "a2zuFBT25D7u"
      }
    },
    {
      "cell_type": "code",
      "source": [
        "n=20\n",
        "total_number =n\n",
        "sum=0\n",
        "while n>=0:\n",
        "  sum+=n\n",
        "  n-=1\n",
        "print(\"sum=\",sum)\n",
        "average= sum / n\n",
        "print(\"Average of \", n, \"numbers is: \", average)\n",
        "\n"
      ],
      "metadata": {
        "colab": {
          "base_uri": "https://localhost:8080/"
        },
        "id": "icpM7AZ75Kbl",
        "outputId": "edefa633-33eb-49d8-bba7-eeffcf4efbe6"
      },
      "execution_count": null,
      "outputs": [
        {
          "output_type": "stream",
          "name": "stdout",
          "text": [
            "sum= 210\n",
            "Average of  -1 numbers is:  -210.0\n"
          ]
        }
      ]
    },
    {
      "cell_type": "markdown",
      "source": [
        "8. Display Fibonnaci set up to 10 terms"
      ],
      "metadata": {
        "id": "BiO1i9Ut6o9v"
      }
    },
    {
      "cell_type": "code",
      "source": [
        "#first two numbers\n",
        "num1,num2=0,1\n",
        "\n",
        "print(\"Fibonacci sequence:\")\n",
        "#run loop 10 times\n",
        "for i in range(10):\n",
        "  print(num1,end='')\n",
        "  res=num1+num2\n",
        "  num1=num2\n",
        "  num2=res"
      ],
      "metadata": {
        "colab": {
          "base_uri": "https://localhost:8080/"
        },
        "id": "8FmSgWp16vKG",
        "outputId": "4996cbba-f992-4523-a00f-b4ed1322b35f"
      },
      "execution_count": null,
      "outputs": [
        {
          "output_type": "stream",
          "name": "stdout",
          "text": [
            "Fibonacci sequence:\n",
            "0112358132134"
          ]
        }
      ]
    },
    {
      "cell_type": "markdown",
      "source": [
        "9. Find the factorial of a given number"
      ],
      "metadata": {
        "id": "BIjxoyY78mQe"
      }
    },
    {
      "cell_type": "code",
      "source": [
        "num=5\n",
        "factorial=1\n",
        "if num<0:\n",
        "  print(\"Factorisl does not exist\")\n",
        "elif num == 0:\n",
        "  print(\"the factorial of 0 is 1\")\n",
        "else:\n",
        "  for i in range(1,num+1):\n",
        "    "
      ],
      "metadata": {
        "id": "QCHSHNbk9VBf"
      },
      "execution_count": null,
      "outputs": []
    }
  ]
}